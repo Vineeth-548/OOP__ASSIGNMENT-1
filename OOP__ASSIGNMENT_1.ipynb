{
  "nbformat": 4,
  "nbformat_minor": 0,
  "metadata": {
    "colab": {
      "name": "OOP__ASSIGNMENT -1.ipynb",
      "provenance": [],
      "collapsed_sections": [],
      "authorship_tag": "ABX9TyNF1WZRRZyZnftPUXOGb2dp",
      "include_colab_link": true
    },
    "kernelspec": {
      "name": "python3",
      "display_name": "Python 3"
    },
    "language_info": {
      "name": "python"
    }
  },
  "cells": [
    {
      "cell_type": "markdown",
      "metadata": {
        "id": "view-in-github",
        "colab_type": "text"
      },
      "source": [
        "<a href=\"https://colab.research.google.com/github/Vineeth-548/OOP__ASSIGNMENT-1/blob/main/OOP__ASSIGNMENT_1.ipynb\" target=\"_parent\"><img src=\"https://colab.research.google.com/assets/colab-badge.svg\" alt=\"Open In Colab\"/></a>"
      ]
    },
    {
      "cell_type": "markdown",
      "metadata": {
        "id": "LRWx3-DihCkM"
      },
      "source": [
        "**Problem-1 :**\n",
        "\n",
        "An extra day is added to the calendar almost every four years as February 29, and the day is called a leap day. It corrects the calendar for the fact that our planet takes approximately 365.25 days to orbit the sun. A leap year contains a leap day.\n",
        "In the Gregorian calendar, three conditions are used to identify leap years:\n",
        "1. The year can be evenly divided by 4, is a leap year, unless:\n",
        "2. The year can be evenly divided by 100, it is NOT a leap year, unless:\n",
        "3. The year is also evenly divisible by 400. Then it is a leap year.\n",
        "\n",
        "Write function to decide whether it is a leap year. If it is a leap year, return the Boolean True, otherwise return False."
      ]
    },
    {
      "cell_type": "code",
      "metadata": {
        "id": "hqZe41Yktuw7",
        "colab": {
          "base_uri": "https://localhost:8080/"
        },
        "outputId": "20d3aa52-6cdd-4630-8c96-bcaff47b365b"
      },
      "source": [
        "\n",
        "def checkYear(year):\n",
        "    if (year % 4) == 0:\n",
        "      return True\n",
        "    elif (year % 100) == 0:\n",
        "      return False\n",
        "    elif (year % 400) == 0:\n",
        "      return True\n",
        "    else:\n",
        "      return False          \n",
        " \n",
        "year = int(input())\n",
        "if(checkYear(year)):\n",
        "    print(\"Leap Year\")\n",
        "else:\n",
        "    print(\"Not a Leap Year\")"
      ],
      "execution_count": null,
      "outputs": [
        {
          "output_type": "stream",
          "name": "stdout",
          "text": [
            "2004\n",
            "Leap Year\n"
          ]
        }
      ]
    },
    {
      "cell_type": "markdown",
      "metadata": {
        "id": "_bTAFXXzjaaw"
      },
      "source": [
        "**Problem-2 :**\n",
        "\n",
        "Given an integer ‘n’, write a python code to perform the following conditional actions:\n",
        "1. If ‘n’ is odd, print Weird\n",
        "2. If ‘n’ is even and in the inclusive range of 2 to 5, print Not Weird\n",
        "3. If ‘n’ is even and in the inclusive range of 6 to 20, print Weird\n",
        "4. If ‘n’ is even and greater than 20, print Not Weird"
      ]
    },
    {
      "cell_type": "code",
      "metadata": {
        "id": "Xv1gz9jRu2Ub",
        "colab": {
          "base_uri": "https://localhost:8080/"
        },
        "outputId": "890e95bd-45d2-45fb-c795-9fb7bb9ba56f"
      },
      "source": [
        "\n",
        "N = int(input())\n",
        "num = N % 2\n",
        "if num == 1:\n",
        "    print(\"Weird\")\n",
        "elif num == 0 and range(6,20):\n",
        "    print(\"Weird\")\n",
        "elif num == 0 and range(2,5):\n",
        "    print(\"Not Weird\")\n",
        "elif num == 0 and N > 20:\n",
        "    print(\"Not Weird\")"
      ],
      "execution_count": null,
      "outputs": [
        {
          "output_type": "stream",
          "name": "stdout",
          "text": [
            "14\n",
            "Weird\n"
          ]
        }
      ]
    },
    {
      "cell_type": "markdown",
      "metadata": {
        "id": "qVKRE01ekfCJ"
      },
      "source": [
        "**Problem-3 :**\n",
        "\n",
        "The following list represents a party with 7 guests, in which ‘Hardik’ showed up first and  ‘Rahane’ was the last to arrive:\n",
        "\n",
        "Arrivals = ['Hardik', 'Rahul', 'Virat', 'Rishabh', 'Mahi', 'Rohit', 'Rahane']\n",
        "\n",
        "A guest is considered 'fashionably late' if they arrived after at least half of the party's guests. However, they must not be the very last guest (that's taking it too far). In the above example, ‘rishabh’, ‘Mahi’ and ‘Rohit’ are the only guests who were fashionably late.\n",
        "\n",
        "Write the function which takes a list of party attendees as well as a person, and tells us whether that person is fashionably late."
      ]
    },
    {
      "cell_type": "code",
      "metadata": {
        "id": "ifDk9Fqy-GVO",
        "colab": {
          "base_uri": "https://localhost:8080/"
        },
        "outputId": "63b427db-6434-4e08-f509-b2a0b75966ec"
      },
      "source": [
        "\n",
        "Guest_List = ['Hardik', 'Rahul', 'Virat', 'Rishabh', 'Mahi', 'Rohit', 'Rahane']\n",
        "Guest_Name = str(input(\"Enter the Guest Name from the above list : \"))\n",
        "Count_of_Guests = len(Guest_List)\n",
        "\n",
        "def Find_Guest_Fashionably_Late(Guest_List , Guest_Name) :\n",
        "   Count_of_Guests = len(Guest_List)\n",
        "\n",
        "Half_of_Guest = (Count_of_Guests // 2) + ( 0 if Count_of_Guests % 2 == 0 else 1)\n",
        "Guest_arrv_pos = Guest_List.index(Guest_Name)\n",
        "\n",
        "if Guest_arrv_pos > Half_of_Guest and Guest_arrv_pos < Count_of_Guests :\n",
        "    print(\"The Guest , \",Guest_Name , \" is not fashionably late .\")\n",
        "else:\n",
        "    print(\"The Guest , \",Guest_Name , \" is fashionably late .\")\n"
      ],
      "execution_count": null,
      "outputs": [
        {
          "output_type": "stream",
          "name": "stdout",
          "text": [
            "Enter the Guest Name from the above list : Virat\n",
            "The Guest ,  Virat  is fashionably late .\n"
          ]
        }
      ]
    },
    {
      "cell_type": "markdown",
      "metadata": {
        "id": "QqkhV4nAoPfV"
      },
      "source": [
        "**Problem-4 :**\n",
        "\n",
        "A researcher has gathered thousands of news articles. But she wants to focus her attention on articles including a specific word. Write a function to help her filter her list of articles.\n",
        "Your function should meet the following criteria:\n",
        "1. Do not include documents where the keyword string shows up only as a part of a larger word. For example, if she were looking for the keyword “closed”, you would not include the string “enclosed.”\n",
        "2. She does not want you to distinguish upper case from lower case letters. So the phrase “Closed the case.” would be included when the keyword is “closed”\n",
        "3. Do not let periods or commas affect what is matched. “It is closed.” would be included when the keyword is “closed”. But you can assume there are no other types of punctuation.\n",
        "\n",
        "Assume, doc_list = [\"The Learn Python Challenge Rohit.\", \"They bought a car\", \"bangalore\"]"
      ]
    },
    {
      "cell_type": "code",
      "metadata": {
        "id": "V3LBcnwD-1dF"
      },
      "source": [
        "\n",
        "def word_search(doc_list, keyword):\n",
        "    doc_list = [&quot;The Learn Python Challenge Rohit.&quot;, &quot;They bought a car&quot;, &quot;bangalore&quot;\n",
        "    \n",
        "    k=0\n",
        "    print(doc_list,keyword)\n",
        "    for string in doc_list:\n",
        "        print(string)\n",
        "    for char in string:\n",
        "        if char.upper()==keyword[0] or char.lower()==keyword[0]:\n",
        "            print(char,string[string.index(char)-1])\n",
        "    if (string[string.index(char)-1]==\" \" or string[string.index(char)-1]==\"\" \n",
        "        or string[string.index(char)-1]==\".\") and (string[string.index(char)+len(keyword)]==\" \" \n",
        "        or string[string.index(char)+len(keyword)]==\"\" or string[string.index(char)+len(keyword)]==\".\"):\n",
        "         print(string[string.index(char)-1])\n",
        "    for k in range(len(keyword)):\n",
        "         print(k)\n",
        "    if string[string.index(char)+k].upper()==keyword[k] or string[string.index(char)+k].lower()==keyword[k]:\n",
        "         c=c+k\n",
        "    if len(c)==len(keyword):\n",
        "         x=[doc_list.index(string)]\n",
        "         return x\n",
        "            "
      ],
      "execution_count": null,
      "outputs": []
    },
    {
      "cell_type": "markdown",
      "metadata": {
        "id": "-rrhZvcdniSp"
      },
      "source": [
        "**Problem-5 :**\n",
        "\n",
        "An Employee's Basic Pay (BP) is to be read from user. DA is 40% of BP, HRA is 20% of BP, and write a function to calculate the Gross Pay (GP) GP is computed as BP + DA + HRA."
      ]
    },
    {
      "cell_type": "code",
      "metadata": {
        "colab": {
          "base_uri": "https://localhost:8080/"
        },
        "id": "Fg69n9Mvgf5q",
        "outputId": "fbc2a11c-c3d4-44c9-a876-703b3099140d"
      },
      "source": [
        " \n",
        " BP = int(input('Employee Basic Pay (BP) : '))\n",
        " DA = BP * (40/100)\n",
        " print('DA of Employee is ,',DA)\n",
        "\n",
        " HRA = BP * (20/100)\n",
        " print('HRA of Employee is ,',HRA)\n",
        "\n",
        " GP = BP + DA + HRA\n",
        " print('The Gross Pay (GP) of Employee is ,',GP)"
      ],
      "execution_count": null,
      "outputs": [
        {
          "output_type": "stream",
          "name": "stdout",
          "text": [
            "Employee Basic Pay (BP) : 25000\n",
            "DA of Employee is , 10000.0\n",
            "HRA of Employee is , 5000.0\n",
            "The Gross Pay (GP) of Employee is , 40000.0\n"
          ]
        }
      ]
    }
  ]
}